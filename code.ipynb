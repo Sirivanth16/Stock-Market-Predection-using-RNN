{
  "nbformat": 4,
  "nbformat_minor": 0,
  "metadata": {
    "colab": {
      "name": "Untitled2.ipynb",
      "provenance": []
    },
    "kernelspec": {
      "name": "python3",
      "display_name": "Python 3"
    },
    "language_info": {
      "name": "python"
    }
  },
  "cells": [
    {
      "cell_type": "code",
      "metadata": {
        "colab": {
          "base_uri": "https://localhost:8080/"
        },
        "id": "OJfOj_gO7dFQ",
        "outputId": "e9803fcd-9558-4ce9-a5e6-d3a7648b13f8"
      },
      "source": [
        "from google.colab import drive\n",
        "drive.mount('/content/drive')"
      ],
      "execution_count": 1,
      "outputs": [
        {
          "output_type": "stream",
          "text": [
            "Mounted at /content/drive\n"
          ],
          "name": "stdout"
        }
      ]
    },
    {
      "cell_type": "code",
      "metadata": {
        "id": "fGjzglG_8r6R"
      },
      "source": [
        "import numpy as np\n",
        "import pandas as pd\n",
        "import sklearn.metrics\n",
        "import matplotlib.pyplot as plt\n",
        "import seaborn as sns"
      ],
      "execution_count": 2,
      "outputs": []
    },
    {
      "cell_type": "code",
      "metadata": {
        "id": "duDVosNO8r88"
      },
      "source": [
        "PATH = '/content/drive/My Drive/Train Data.csv'\n",
        "set_ = pd.read_csv(PATH)"
      ],
      "execution_count": 3,
      "outputs": []
    },
    {
      "cell_type": "code",
      "metadata": {
        "colab": {
          "base_uri": "https://localhost:8080/",
          "height": 202
        },
        "id": "k8-P44r18r_L",
        "outputId": "9bf88c80-14bd-47a3-8c7c-9ab2f70e1858"
      },
      "source": [
        "set_.head()"
      ],
      "execution_count": 4,
      "outputs": [
        {
          "output_type": "execute_result",
          "data": {
            "text/html": [
              "<div>\n",
              "<style scoped>\n",
              "    .dataframe tbody tr th:only-of-type {\n",
              "        vertical-align: middle;\n",
              "    }\n",
              "\n",
              "    .dataframe tbody tr th {\n",
              "        vertical-align: top;\n",
              "    }\n",
              "\n",
              "    .dataframe thead th {\n",
              "        text-align: right;\n",
              "    }\n",
              "</style>\n",
              "<table border=\"1\" class=\"dataframe\">\n",
              "  <thead>\n",
              "    <tr style=\"text-align: right;\">\n",
              "      <th></th>\n",
              "      <th>Date</th>\n",
              "      <th>Open</th>\n",
              "      <th>High</th>\n",
              "      <th>Low</th>\n",
              "      <th>Close</th>\n",
              "      <th>Volume</th>\n",
              "    </tr>\n",
              "  </thead>\n",
              "  <tbody>\n",
              "    <tr>\n",
              "      <th>0</th>\n",
              "      <td>1/3/2012</td>\n",
              "      <td>325.25</td>\n",
              "      <td>332.83</td>\n",
              "      <td>324.97</td>\n",
              "      <td>663.59</td>\n",
              "      <td>7,380,500</td>\n",
              "    </tr>\n",
              "    <tr>\n",
              "      <th>1</th>\n",
              "      <td>1/4/2012</td>\n",
              "      <td>331.27</td>\n",
              "      <td>333.87</td>\n",
              "      <td>329.08</td>\n",
              "      <td>666.45</td>\n",
              "      <td>5,749,400</td>\n",
              "    </tr>\n",
              "    <tr>\n",
              "      <th>2</th>\n",
              "      <td>1/5/2012</td>\n",
              "      <td>329.83</td>\n",
              "      <td>330.75</td>\n",
              "      <td>326.89</td>\n",
              "      <td>657.21</td>\n",
              "      <td>6,590,300</td>\n",
              "    </tr>\n",
              "    <tr>\n",
              "      <th>3</th>\n",
              "      <td>1/6/2012</td>\n",
              "      <td>328.34</td>\n",
              "      <td>328.77</td>\n",
              "      <td>323.68</td>\n",
              "      <td>648.24</td>\n",
              "      <td>5,405,900</td>\n",
              "    </tr>\n",
              "    <tr>\n",
              "      <th>4</th>\n",
              "      <td>1/9/2012</td>\n",
              "      <td>322.04</td>\n",
              "      <td>322.29</td>\n",
              "      <td>309.46</td>\n",
              "      <td>620.76</td>\n",
              "      <td>11,688,800</td>\n",
              "    </tr>\n",
              "  </tbody>\n",
              "</table>\n",
              "</div>"
            ],
            "text/plain": [
              "       Date    Open    High     Low   Close      Volume\n",
              "0  1/3/2012  325.25  332.83  324.97  663.59   7,380,500\n",
              "1  1/4/2012  331.27  333.87  329.08  666.45   5,749,400\n",
              "2  1/5/2012  329.83  330.75  326.89  657.21   6,590,300\n",
              "3  1/6/2012  328.34  328.77  323.68  648.24   5,405,900\n",
              "4  1/9/2012  322.04  322.29  309.46  620.76  11,688,800"
            ]
          },
          "metadata": {
            "tags": []
          },
          "execution_count": 4
        }
      ]
    },
    {
      "cell_type": "code",
      "metadata": {
        "colab": {
          "base_uri": "https://localhost:8080/",
          "height": 202
        },
        "id": "mtW8pRob8sAx",
        "outputId": "e010785c-ab61-4bb6-9c83-cb4db3a14a83"
      },
      "source": [
        "\n",
        "set_ = set_.iloc[:, 1:2]\n",
        "\n",
        "set_.shape\n",
        "set_.head()"
      ],
      "execution_count": 5,
      "outputs": [
        {
          "output_type": "execute_result",
          "data": {
            "text/html": [
              "<div>\n",
              "<style scoped>\n",
              "    .dataframe tbody tr th:only-of-type {\n",
              "        vertical-align: middle;\n",
              "    }\n",
              "\n",
              "    .dataframe tbody tr th {\n",
              "        vertical-align: top;\n",
              "    }\n",
              "\n",
              "    .dataframe thead th {\n",
              "        text-align: right;\n",
              "    }\n",
              "</style>\n",
              "<table border=\"1\" class=\"dataframe\">\n",
              "  <thead>\n",
              "    <tr style=\"text-align: right;\">\n",
              "      <th></th>\n",
              "      <th>Open</th>\n",
              "    </tr>\n",
              "  </thead>\n",
              "  <tbody>\n",
              "    <tr>\n",
              "      <th>0</th>\n",
              "      <td>325.25</td>\n",
              "    </tr>\n",
              "    <tr>\n",
              "      <th>1</th>\n",
              "      <td>331.27</td>\n",
              "    </tr>\n",
              "    <tr>\n",
              "      <th>2</th>\n",
              "      <td>329.83</td>\n",
              "    </tr>\n",
              "    <tr>\n",
              "      <th>3</th>\n",
              "      <td>328.34</td>\n",
              "    </tr>\n",
              "    <tr>\n",
              "      <th>4</th>\n",
              "      <td>322.04</td>\n",
              "    </tr>\n",
              "  </tbody>\n",
              "</table>\n",
              "</div>"
            ],
            "text/plain": [
              "     Open\n",
              "0  325.25\n",
              "1  331.27\n",
              "2  329.83\n",
              "3  328.34\n",
              "4  322.04"
            ]
          },
          "metadata": {
            "tags": []
          },
          "execution_count": 5
        }
      ]
    },
    {
      "cell_type": "code",
      "metadata": {
        "id": "WCLjstfr8sDw"
      },
      "source": [
        "from sklearn.preprocessing import MinMaxScaler\n",
        "\n",
        "mm = MinMaxScaler(feature_range = (0, 1))\n",
        "set_= mm.fit_transform(set_)"
      ],
      "execution_count": 6,
      "outputs": []
    },
    {
      "cell_type": "code",
      "metadata": {
        "colab": {
          "base_uri": "https://localhost:8080/"
        },
        "id": "sok0KSA69K1I",
        "outputId": "3472ddb4-aae5-4e5c-9522-40f0aa6d547b"
      },
      "source": [
        "x_train = set_[0:1257]\n",
        "y_train = set_[1:1258]\n",
        "\n",
        "print(x_train.shape)\n",
        "print(y_train.shape)"
      ],
      "execution_count": 7,
      "outputs": [
        {
          "output_type": "stream",
          "text": [
            "(1257, 1)\n",
            "(1257, 1)\n"
          ],
          "name": "stdout"
        }
      ]
    },
    {
      "cell_type": "code",
      "metadata": {
        "colab": {
          "base_uri": "https://localhost:8080/"
        },
        "id": "OAwh87E59K4L",
        "outputId": "714b22ad-07e5-4ef5-d1f7-362d04234fff"
      },
      "source": [
        "x_train = np.reshape(x_train, (1257, 1, 1))\n",
        "\n",
        "print(x_train.shape)"
      ],
      "execution_count": 8,
      "outputs": [
        {
          "output_type": "stream",
          "text": [
            "(1257, 1, 1)\n"
          ],
          "name": "stdout"
        }
      ]
    },
    {
      "cell_type": "code",
      "metadata": {
        "id": "aOry26cz9K6z"
      },
      "source": [
        "import keras\n",
        "from keras.models import Sequential\n",
        "from keras.layers import Dense\n",
        "from keras.layers import LSTM"
      ],
      "execution_count": 9,
      "outputs": []
    },
    {
      "cell_type": "code",
      "metadata": {
        "colab": {
          "base_uri": "https://localhost:8080/"
        },
        "id": "wal1mFCp9K9W",
        "outputId": "b8df929e-8188-4657-c2f5-dbd64e253f49"
      },
      "source": [
        "model = Sequential()\n",
        "\n",
        "# adding the input layer and the LSTM layer\n",
        "model.add(LSTM(units = 4, activation = 'sigmoid', input_shape = (None, 1)))\n",
        "\n",
        "# adding the output layer\n",
        "model.add(Dense(units = 1))\n",
        "\n",
        "# compiling the model\n",
        "model.compile(optimizer = 'adam', loss = 'mean_squared_error')\n",
        "\n",
        "# fitting the RNN to the training data\n",
        "model.fit(x_train, y_train, batch_size = 32, epochs = 200)"
      ],
      "execution_count": 10,
      "outputs": [
        {
          "output_type": "stream",
          "text": [
            "Epoch 1/200\n",
            "40/40 [==============================] - 1s 2ms/step - loss: 1.1776\n",
            "Epoch 2/200\n",
            "40/40 [==============================] - 0s 2ms/step - loss: 1.0169\n",
            "Epoch 3/200\n",
            "40/40 [==============================] - 0s 2ms/step - loss: 0.7964\n",
            "Epoch 4/200\n",
            "40/40 [==============================] - 0s 2ms/step - loss: 0.6802\n",
            "Epoch 5/200\n",
            "40/40 [==============================] - 0s 2ms/step - loss: 0.5737\n",
            "Epoch 6/200\n",
            "40/40 [==============================] - 0s 2ms/step - loss: 0.4751\n",
            "Epoch 7/200\n",
            "40/40 [==============================] - 0s 2ms/step - loss: 0.3775\n",
            "Epoch 8/200\n",
            "40/40 [==============================] - 0s 2ms/step - loss: 0.3377\n",
            "Epoch 9/200\n",
            "40/40 [==============================] - 0s 2ms/step - loss: 0.2664\n",
            "Epoch 10/200\n",
            "40/40 [==============================] - 0s 2ms/step - loss: 0.2349\n",
            "Epoch 11/200\n",
            "40/40 [==============================] - 0s 2ms/step - loss: 0.1892\n",
            "Epoch 12/200\n",
            "40/40 [==============================] - 0s 2ms/step - loss: 0.1720\n",
            "Epoch 13/200\n",
            "40/40 [==============================] - 0s 2ms/step - loss: 0.1389\n",
            "Epoch 14/200\n",
            "40/40 [==============================] - 0s 2ms/step - loss: 0.1294\n",
            "Epoch 15/200\n",
            "40/40 [==============================] - 0s 2ms/step - loss: 0.1100\n",
            "Epoch 16/200\n",
            "40/40 [==============================] - 0s 2ms/step - loss: 0.0988\n",
            "Epoch 17/200\n",
            "40/40 [==============================] - 0s 2ms/step - loss: 0.0900\n",
            "Epoch 18/200\n",
            "40/40 [==============================] - 0s 2ms/step - loss: 0.0850\n",
            "Epoch 19/200\n",
            "40/40 [==============================] - 0s 2ms/step - loss: 0.0843\n",
            "Epoch 20/200\n",
            "40/40 [==============================] - 0s 2ms/step - loss: 0.0868\n",
            "Epoch 21/200\n",
            "40/40 [==============================] - 0s 2ms/step - loss: 0.0776\n",
            "Epoch 22/200\n",
            "40/40 [==============================] - 0s 2ms/step - loss: 0.0736\n",
            "Epoch 23/200\n",
            "40/40 [==============================] - 0s 2ms/step - loss: 0.0746\n",
            "Epoch 24/200\n",
            "40/40 [==============================] - 0s 2ms/step - loss: 0.0744\n",
            "Epoch 25/200\n",
            "40/40 [==============================] - 0s 2ms/step - loss: 0.0711\n",
            "Epoch 26/200\n",
            "40/40 [==============================] - 0s 2ms/step - loss: 0.0731\n",
            "Epoch 27/200\n",
            "40/40 [==============================] - 0s 2ms/step - loss: 0.0705\n",
            "Epoch 28/200\n",
            "40/40 [==============================] - 0s 2ms/step - loss: 0.0735\n",
            "Epoch 29/200\n",
            "40/40 [==============================] - 0s 2ms/step - loss: 0.0718\n",
            "Epoch 30/200\n",
            "40/40 [==============================] - 0s 2ms/step - loss: 0.0713\n",
            "Epoch 31/200\n",
            "40/40 [==============================] - 0s 2ms/step - loss: 0.0724\n",
            "Epoch 32/200\n",
            "40/40 [==============================] - 0s 2ms/step - loss: 0.0698\n",
            "Epoch 33/200\n",
            "40/40 [==============================] - 0s 2ms/step - loss: 0.0677\n",
            "Epoch 34/200\n",
            "40/40 [==============================] - 0s 2ms/step - loss: 0.0699\n",
            "Epoch 35/200\n",
            "40/40 [==============================] - 0s 2ms/step - loss: 0.0705\n",
            "Epoch 36/200\n",
            "40/40 [==============================] - 0s 2ms/step - loss: 0.0732\n",
            "Epoch 37/200\n",
            "40/40 [==============================] - 0s 2ms/step - loss: 0.0652\n",
            "Epoch 38/200\n",
            "40/40 [==============================] - 0s 2ms/step - loss: 0.0660\n",
            "Epoch 39/200\n",
            "40/40 [==============================] - 0s 2ms/step - loss: 0.0659\n",
            "Epoch 40/200\n",
            "40/40 [==============================] - 0s 2ms/step - loss: 0.0649\n",
            "Epoch 41/200\n",
            "40/40 [==============================] - 0s 2ms/step - loss: 0.0683\n",
            "Epoch 42/200\n",
            "40/40 [==============================] - 0s 2ms/step - loss: 0.0666\n",
            "Epoch 43/200\n",
            "40/40 [==============================] - 0s 2ms/step - loss: 0.0647\n",
            "Epoch 44/200\n",
            "40/40 [==============================] - 0s 2ms/step - loss: 0.0631\n",
            "Epoch 45/200\n",
            "40/40 [==============================] - 0s 2ms/step - loss: 0.0654\n",
            "Epoch 46/200\n",
            "40/40 [==============================] - 0s 2ms/step - loss: 0.0609\n",
            "Epoch 47/200\n",
            "40/40 [==============================] - 0s 2ms/step - loss: 0.0630\n",
            "Epoch 48/200\n",
            "40/40 [==============================] - 0s 2ms/step - loss: 0.0606\n",
            "Epoch 49/200\n",
            "40/40 [==============================] - 0s 2ms/step - loss: 0.0621\n",
            "Epoch 50/200\n",
            "40/40 [==============================] - 0s 2ms/step - loss: 0.0600\n",
            "Epoch 51/200\n",
            "40/40 [==============================] - 0s 2ms/step - loss: 0.0586\n",
            "Epoch 52/200\n",
            "40/40 [==============================] - 0s 2ms/step - loss: 0.0594\n",
            "Epoch 53/200\n",
            "40/40 [==============================] - 0s 2ms/step - loss: 0.0601\n",
            "Epoch 54/200\n",
            "40/40 [==============================] - 0s 2ms/step - loss: 0.0568\n",
            "Epoch 55/200\n",
            "40/40 [==============================] - 0s 2ms/step - loss: 0.0546\n",
            "Epoch 56/200\n",
            "40/40 [==============================] - 0s 2ms/step - loss: 0.0518\n",
            "Epoch 57/200\n",
            "40/40 [==============================] - 0s 2ms/step - loss: 0.0555\n",
            "Epoch 58/200\n",
            "40/40 [==============================] - 0s 2ms/step - loss: 0.0507\n",
            "Epoch 59/200\n",
            "40/40 [==============================] - 0s 2ms/step - loss: 0.0510\n",
            "Epoch 60/200\n",
            "40/40 [==============================] - 0s 2ms/step - loss: 0.0485\n",
            "Epoch 61/200\n",
            "40/40 [==============================] - 0s 2ms/step - loss: 0.0503\n",
            "Epoch 62/200\n",
            "40/40 [==============================] - 0s 2ms/step - loss: 0.0492\n",
            "Epoch 63/200\n",
            "40/40 [==============================] - 0s 2ms/step - loss: 0.0461\n",
            "Epoch 64/200\n",
            "40/40 [==============================] - 0s 2ms/step - loss: 0.0480\n",
            "Epoch 65/200\n",
            "40/40 [==============================] - 0s 2ms/step - loss: 0.0436\n",
            "Epoch 66/200\n",
            "40/40 [==============================] - 0s 2ms/step - loss: 0.0448\n",
            "Epoch 67/200\n",
            "40/40 [==============================] - 0s 2ms/step - loss: 0.0411\n",
            "Epoch 68/200\n",
            "40/40 [==============================] - 0s 2ms/step - loss: 0.0426\n",
            "Epoch 69/200\n",
            "40/40 [==============================] - 0s 2ms/step - loss: 0.0424\n",
            "Epoch 70/200\n",
            "40/40 [==============================] - 0s 2ms/step - loss: 0.0376\n",
            "Epoch 71/200\n",
            "40/40 [==============================] - 0s 2ms/step - loss: 0.0382\n",
            "Epoch 72/200\n",
            "40/40 [==============================] - 0s 2ms/step - loss: 0.0364\n",
            "Epoch 73/200\n",
            "40/40 [==============================] - 0s 2ms/step - loss: 0.0346\n",
            "Epoch 74/200\n",
            "40/40 [==============================] - 0s 2ms/step - loss: 0.0343\n",
            "Epoch 75/200\n",
            "40/40 [==============================] - 0s 2ms/step - loss: 0.0323\n",
            "Epoch 76/200\n",
            "40/40 [==============================] - 0s 2ms/step - loss: 0.0295\n",
            "Epoch 77/200\n",
            "40/40 [==============================] - 0s 2ms/step - loss: 0.0289\n",
            "Epoch 78/200\n",
            "40/40 [==============================] - 0s 2ms/step - loss: 0.0278\n",
            "Epoch 79/200\n",
            "40/40 [==============================] - 0s 2ms/step - loss: 0.0274\n",
            "Epoch 80/200\n",
            "40/40 [==============================] - 0s 2ms/step - loss: 0.0237\n",
            "Epoch 81/200\n",
            "40/40 [==============================] - 0s 2ms/step - loss: 0.0245\n",
            "Epoch 82/200\n",
            "40/40 [==============================] - 0s 2ms/step - loss: 0.0219\n",
            "Epoch 83/200\n",
            "40/40 [==============================] - 0s 2ms/step - loss: 0.0210\n",
            "Epoch 84/200\n",
            "40/40 [==============================] - 0s 2ms/step - loss: 0.0193\n",
            "Epoch 85/200\n",
            "40/40 [==============================] - 0s 2ms/step - loss: 0.0191\n",
            "Epoch 86/200\n",
            "40/40 [==============================] - 0s 2ms/step - loss: 0.0174\n",
            "Epoch 87/200\n",
            "40/40 [==============================] - 0s 2ms/step - loss: 0.0172\n",
            "Epoch 88/200\n",
            "40/40 [==============================] - 0s 2ms/step - loss: 0.0149\n",
            "Epoch 89/200\n",
            "40/40 [==============================] - 0s 2ms/step - loss: 0.0145\n",
            "Epoch 90/200\n",
            "40/40 [==============================] - 0s 2ms/step - loss: 0.0126\n",
            "Epoch 91/200\n",
            "40/40 [==============================] - 0s 2ms/step - loss: 0.0117\n",
            "Epoch 92/200\n",
            "40/40 [==============================] - 0s 2ms/step - loss: 0.0110\n",
            "Epoch 93/200\n",
            "40/40 [==============================] - 0s 2ms/step - loss: 0.0100\n",
            "Epoch 94/200\n",
            "40/40 [==============================] - 0s 2ms/step - loss: 0.0095\n",
            "Epoch 95/200\n",
            "40/40 [==============================] - 0s 2ms/step - loss: 0.0083\n",
            "Epoch 96/200\n",
            "40/40 [==============================] - 0s 2ms/step - loss: 0.0075\n",
            "Epoch 97/200\n",
            "40/40 [==============================] - 0s 2ms/step - loss: 0.0070\n",
            "Epoch 98/200\n",
            "40/40 [==============================] - 0s 2ms/step - loss: 0.0063\n",
            "Epoch 99/200\n",
            "40/40 [==============================] - 0s 2ms/step - loss: 0.0061\n",
            "Epoch 100/200\n",
            "40/40 [==============================] - 0s 2ms/step - loss: 0.0052\n",
            "Epoch 101/200\n",
            "40/40 [==============================] - 0s 2ms/step - loss: 0.0044\n",
            "Epoch 102/200\n",
            "40/40 [==============================] - 0s 2ms/step - loss: 0.0043\n",
            "Epoch 103/200\n",
            "40/40 [==============================] - 0s 2ms/step - loss: 0.0037\n",
            "Epoch 104/200\n",
            "40/40 [==============================] - 0s 2ms/step - loss: 0.0031\n",
            "Epoch 105/200\n",
            "40/40 [==============================] - 0s 2ms/step - loss: 0.0029\n",
            "Epoch 106/200\n",
            "40/40 [==============================] - 0s 2ms/step - loss: 0.0026\n",
            "Epoch 107/200\n",
            "40/40 [==============================] - 0s 2ms/step - loss: 0.0023\n",
            "Epoch 108/200\n",
            "40/40 [==============================] - 0s 2ms/step - loss: 0.0021\n",
            "Epoch 109/200\n",
            "40/40 [==============================] - 0s 2ms/step - loss: 0.0019\n",
            "Epoch 110/200\n",
            "40/40 [==============================] - 0s 2ms/step - loss: 0.0017\n",
            "Epoch 111/200\n",
            "40/40 [==============================] - 0s 2ms/step - loss: 0.0015\n",
            "Epoch 112/200\n",
            "40/40 [==============================] - 0s 2ms/step - loss: 0.0013\n",
            "Epoch 113/200\n",
            "40/40 [==============================] - 0s 2ms/step - loss: 0.0011\n",
            "Epoch 114/200\n",
            "40/40 [==============================] - 0s 2ms/step - loss: 9.9862e-04\n",
            "Epoch 115/200\n",
            "40/40 [==============================] - 0s 2ms/step - loss: 8.9882e-04\n",
            "Epoch 116/200\n",
            "40/40 [==============================] - 0s 2ms/step - loss: 8.5447e-04\n",
            "Epoch 117/200\n",
            "40/40 [==============================] - 0s 2ms/step - loss: 7.8483e-04\n",
            "Epoch 118/200\n",
            "40/40 [==============================] - 0s 2ms/step - loss: 7.3112e-04\n",
            "Epoch 119/200\n",
            "40/40 [==============================] - 0s 2ms/step - loss: 6.5808e-04\n",
            "Epoch 120/200\n",
            "40/40 [==============================] - 0s 2ms/step - loss: 5.7001e-04\n",
            "Epoch 121/200\n",
            "40/40 [==============================] - 0s 2ms/step - loss: 5.7559e-04\n",
            "Epoch 122/200\n",
            "40/40 [==============================] - 0s 2ms/step - loss: 5.7146e-04\n",
            "Epoch 123/200\n",
            "40/40 [==============================] - 0s 2ms/step - loss: 5.4474e-04\n",
            "Epoch 124/200\n",
            "40/40 [==============================] - 0s 2ms/step - loss: 5.0681e-04\n",
            "Epoch 125/200\n",
            "40/40 [==============================] - 0s 2ms/step - loss: 4.8001e-04\n",
            "Epoch 126/200\n",
            "40/40 [==============================] - 0s 2ms/step - loss: 4.6005e-04\n",
            "Epoch 127/200\n",
            "40/40 [==============================] - 0s 2ms/step - loss: 4.6795e-04\n",
            "Epoch 128/200\n",
            "40/40 [==============================] - 0s 2ms/step - loss: 4.0883e-04\n",
            "Epoch 129/200\n",
            "40/40 [==============================] - 0s 2ms/step - loss: 4.2396e-04\n",
            "Epoch 130/200\n",
            "40/40 [==============================] - 0s 2ms/step - loss: 4.8083e-04\n",
            "Epoch 131/200\n",
            "40/40 [==============================] - 0s 2ms/step - loss: 4.4429e-04\n",
            "Epoch 132/200\n",
            "40/40 [==============================] - 0s 2ms/step - loss: 3.7881e-04\n",
            "Epoch 133/200\n",
            "40/40 [==============================] - 0s 2ms/step - loss: 3.9196e-04\n",
            "Epoch 134/200\n",
            "40/40 [==============================] - 0s 2ms/step - loss: 4.2447e-04\n",
            "Epoch 135/200\n",
            "40/40 [==============================] - 0s 2ms/step - loss: 3.7886e-04\n",
            "Epoch 136/200\n",
            "40/40 [==============================] - 0s 2ms/step - loss: 3.9890e-04\n",
            "Epoch 137/200\n",
            "40/40 [==============================] - 0s 2ms/step - loss: 3.7099e-04\n",
            "Epoch 138/200\n",
            "40/40 [==============================] - 0s 2ms/step - loss: 4.3914e-04\n",
            "Epoch 139/200\n",
            "40/40 [==============================] - 0s 2ms/step - loss: 3.6731e-04\n",
            "Epoch 140/200\n",
            "40/40 [==============================] - 0s 2ms/step - loss: 3.7347e-04\n",
            "Epoch 141/200\n",
            "40/40 [==============================] - 0s 2ms/step - loss: 4.0370e-04\n",
            "Epoch 142/200\n",
            "40/40 [==============================] - 0s 2ms/step - loss: 3.6701e-04\n",
            "Epoch 143/200\n",
            "40/40 [==============================] - 0s 2ms/step - loss: 3.4973e-04\n",
            "Epoch 144/200\n",
            "40/40 [==============================] - 0s 2ms/step - loss: 4.5741e-04\n",
            "Epoch 145/200\n",
            "40/40 [==============================] - 0s 2ms/step - loss: 3.4382e-04\n",
            "Epoch 146/200\n",
            "40/40 [==============================] - 0s 2ms/step - loss: 3.7964e-04\n",
            "Epoch 147/200\n",
            "40/40 [==============================] - 0s 2ms/step - loss: 3.0604e-04\n",
            "Epoch 148/200\n",
            "40/40 [==============================] - 0s 2ms/step - loss: 3.4165e-04\n",
            "Epoch 149/200\n",
            "40/40 [==============================] - 0s 2ms/step - loss: 3.9331e-04\n",
            "Epoch 150/200\n",
            "40/40 [==============================] - 0s 2ms/step - loss: 3.9004e-04\n",
            "Epoch 151/200\n",
            "40/40 [==============================] - 0s 2ms/step - loss: 3.8007e-04\n",
            "Epoch 152/200\n",
            "40/40 [==============================] - 0s 2ms/step - loss: 3.5039e-04\n",
            "Epoch 153/200\n",
            "40/40 [==============================] - 0s 2ms/step - loss: 3.5633e-04\n",
            "Epoch 154/200\n",
            "40/40 [==============================] - 0s 2ms/step - loss: 3.2331e-04\n",
            "Epoch 155/200\n",
            "40/40 [==============================] - 0s 2ms/step - loss: 3.4533e-04\n",
            "Epoch 156/200\n",
            "40/40 [==============================] - 0s 2ms/step - loss: 3.4599e-04\n",
            "Epoch 157/200\n",
            "40/40 [==============================] - 0s 2ms/step - loss: 3.4780e-04\n",
            "Epoch 158/200\n",
            "40/40 [==============================] - 0s 2ms/step - loss: 4.2451e-04\n",
            "Epoch 159/200\n",
            "40/40 [==============================] - 0s 2ms/step - loss: 3.4837e-04\n",
            "Epoch 160/200\n",
            "40/40 [==============================] - 0s 2ms/step - loss: 3.4414e-04\n",
            "Epoch 161/200\n",
            "40/40 [==============================] - 0s 2ms/step - loss: 3.1526e-04\n",
            "Epoch 162/200\n",
            "40/40 [==============================] - 0s 2ms/step - loss: 3.3958e-04\n",
            "Epoch 163/200\n",
            "40/40 [==============================] - 0s 2ms/step - loss: 3.4909e-04\n",
            "Epoch 164/200\n",
            "40/40 [==============================] - 0s 2ms/step - loss: 3.2047e-04\n",
            "Epoch 165/200\n",
            "40/40 [==============================] - 0s 2ms/step - loss: 4.3084e-04\n",
            "Epoch 166/200\n",
            "40/40 [==============================] - 0s 2ms/step - loss: 3.4544e-04\n",
            "Epoch 167/200\n",
            "40/40 [==============================] - 0s 2ms/step - loss: 3.1393e-04\n",
            "Epoch 168/200\n",
            "40/40 [==============================] - 0s 2ms/step - loss: 3.4911e-04\n",
            "Epoch 169/200\n",
            "40/40 [==============================] - 0s 2ms/step - loss: 3.5402e-04\n",
            "Epoch 170/200\n",
            "40/40 [==============================] - 0s 2ms/step - loss: 3.3988e-04\n",
            "Epoch 171/200\n",
            "40/40 [==============================] - 0s 2ms/step - loss: 3.8029e-04\n",
            "Epoch 172/200\n",
            "40/40 [==============================] - 0s 2ms/step - loss: 3.8978e-04\n",
            "Epoch 173/200\n",
            "40/40 [==============================] - 0s 2ms/step - loss: 3.5558e-04\n",
            "Epoch 174/200\n",
            "40/40 [==============================] - 0s 2ms/step - loss: 3.2186e-04\n",
            "Epoch 175/200\n",
            "40/40 [==============================] - 0s 2ms/step - loss: 3.2710e-04\n",
            "Epoch 176/200\n",
            "40/40 [==============================] - 0s 2ms/step - loss: 3.1718e-04\n",
            "Epoch 177/200\n",
            "40/40 [==============================] - 0s 2ms/step - loss: 3.4818e-04\n",
            "Epoch 178/200\n",
            "40/40 [==============================] - 0s 2ms/step - loss: 3.4566e-04\n",
            "Epoch 179/200\n",
            "40/40 [==============================] - 0s 2ms/step - loss: 2.9666e-04\n",
            "Epoch 180/200\n",
            "40/40 [==============================] - 0s 2ms/step - loss: 3.5234e-04\n",
            "Epoch 181/200\n",
            "40/40 [==============================] - 0s 2ms/step - loss: 3.3844e-04\n",
            "Epoch 182/200\n",
            "40/40 [==============================] - 0s 2ms/step - loss: 3.5821e-04\n",
            "Epoch 183/200\n",
            "40/40 [==============================] - 0s 2ms/step - loss: 3.4263e-04\n",
            "Epoch 184/200\n",
            "40/40 [==============================] - 0s 2ms/step - loss: 3.4155e-04\n",
            "Epoch 185/200\n",
            "40/40 [==============================] - 0s 2ms/step - loss: 3.7113e-04\n",
            "Epoch 186/200\n",
            "40/40 [==============================] - 0s 2ms/step - loss: 3.4268e-04\n",
            "Epoch 187/200\n",
            "40/40 [==============================] - 0s 2ms/step - loss: 3.2499e-04\n",
            "Epoch 188/200\n",
            "40/40 [==============================] - 0s 2ms/step - loss: 3.0336e-04\n",
            "Epoch 189/200\n",
            "40/40 [==============================] - 0s 2ms/step - loss: 3.2821e-04\n",
            "Epoch 190/200\n",
            "40/40 [==============================] - 0s 2ms/step - loss: 3.2530e-04\n",
            "Epoch 191/200\n",
            "40/40 [==============================] - 0s 2ms/step - loss: 3.6440e-04\n",
            "Epoch 192/200\n",
            "40/40 [==============================] - 0s 2ms/step - loss: 2.7812e-04\n",
            "Epoch 193/200\n",
            "40/40 [==============================] - 0s 2ms/step - loss: 2.8443e-04\n",
            "Epoch 194/200\n",
            "40/40 [==============================] - 0s 2ms/step - loss: 3.1645e-04\n",
            "Epoch 195/200\n",
            "40/40 [==============================] - 0s 2ms/step - loss: 3.3272e-04\n",
            "Epoch 196/200\n",
            "40/40 [==============================] - 0s 2ms/step - loss: 3.1601e-04\n",
            "Epoch 197/200\n",
            "40/40 [==============================] - 0s 2ms/step - loss: 3.5575e-04\n",
            "Epoch 198/200\n",
            "40/40 [==============================] - 0s 2ms/step - loss: 3.3153e-04\n",
            "Epoch 199/200\n",
            "40/40 [==============================] - 0s 2ms/step - loss: 2.9300e-04\n",
            "Epoch 200/200\n",
            "40/40 [==============================] - 0s 2ms/step - loss: 3.4620e-04\n"
          ],
          "name": "stdout"
        },
        {
          "output_type": "execute_result",
          "data": {
            "text/plain": [
              "<tensorflow.python.keras.callbacks.History at 0x7f480b6f5890>"
            ]
          },
          "metadata": {
            "tags": []
          },
          "execution_count": 10
        }
      ]
    },
    {
      "cell_type": "code",
      "metadata": {
        "colab": {
          "base_uri": "https://localhost:8080/"
        },
        "id": "DwoAAI-x9K-0",
        "outputId": "5311d540-e4bb-42d3-f57b-b9c29edccd3d"
      },
      "source": [
        "test_data = pd.read_csv('/content/drive/My Drive/Test Data.csv')\n",
        "real_stock_price = test_data.iloc[:,1:2]\n",
        "real_stock_price.head"
      ],
      "execution_count": 12,
      "outputs": [
        {
          "output_type": "execute_result",
          "data": {
            "text/plain": [
              "<bound method NDFrame.head of       Open\n",
              "0   778.81\n",
              "1   788.36\n",
              "2   786.08\n",
              "3   795.26\n",
              "4   806.40\n",
              "5   807.86\n",
              "6   805.00\n",
              "7   807.14\n",
              "8   807.48\n",
              "9   807.08\n",
              "10  805.81\n",
              "11  805.12\n",
              "12  806.91\n",
              "13  807.25\n",
              "14  822.30\n",
              "15  829.62\n",
              "16  837.81\n",
              "17  834.71\n",
              "18  814.66\n",
              "19  796.86>"
            ]
          },
          "metadata": {
            "tags": []
          },
          "execution_count": 12
        }
      ]
    },
    {
      "cell_type": "code",
      "metadata": {
        "id": "0UjcXV-P9LAG"
      },
      "source": [
        "inputs = real_stock_price\n",
        "inputs = mm.transform(inputs)\n",
        "inputs = np.reshape(inputs, (20, 1, 1))\n",
        "predicted_stock_price = model.predict(inputs)\n",
        "predicted_stock_price = mm.inverse_transform(predicted_stock_price)"
      ],
      "execution_count": 13,
      "outputs": []
    },
    {
      "cell_type": "code",
      "metadata": {
        "colab": {
          "base_uri": "https://localhost:8080/"
        },
        "id": "RhMv_t_P9LCh",
        "outputId": "f3d541ee-a57c-4862-fc67-1961bd4794b5"
      },
      "source": [
        "predicted_stock_price"
      ],
      "execution_count": 14,
      "outputs": [
        {
          "output_type": "execute_result",
          "data": {
            "text/plain": [
              "array([[771.5273 ],\n",
              "       [778.4984 ],\n",
              "       [776.8523 ],\n",
              "       [783.4109 ],\n",
              "       [791.1241 ],\n",
              "       [792.1152 ],\n",
              "       [790.1695 ],\n",
              "       [791.627  ],\n",
              "       [791.85767],\n",
              "       [791.58624],\n",
              "       [790.72235],\n",
              "       [790.25146],\n",
              "       [791.4709 ],\n",
              "       [791.7016 ],\n",
              "       [801.6727 ],\n",
              "       [806.35   ],\n",
              "       [811.4516 ],\n",
              "       [809.5368 ],\n",
              "       [796.6711 ],\n",
              "       [784.5352 ]], dtype=float32)"
            ]
          },
          "metadata": {
            "tags": []
          },
          "execution_count": 14
        }
      ]
    },
    {
      "cell_type": "code",
      "metadata": {
        "colab": {
          "base_uri": "https://localhost:8080/",
          "height": 295
        },
        "id": "TmisL5FS9LER",
        "outputId": "bbceaa44-37da-433a-c2af-821ef6145e01"
      },
      "source": [
        "plt.plot(real_stock_price, color = 'red', label = 'Real Google Stock Price')\n",
        "plt.plot(predicted_stock_price, color = 'blue', label = 'Predicted Google Stock Price')\n",
        "plt.title('Stock Prediction')\n",
        "plt.xlabel('Time')\n",
        "plt.ylabel('Google Stock Price')\n",
        "plt.legend()\n",
        "plt.show()"
      ],
      "execution_count": 15,
      "outputs": [
        {
          "output_type": "display_data",
          "data": {
            "image/png": "[encoded data removed]",
            "text/plain": [
              "<Figure size 432x288 with 1 Axes>"
            ]
          },
          "metadata": {
            "tags": [],
            "needs_background": "light"
          }
        }
      ]
    },
    {
      "cell_type": "code",
      "metadata": {
        "colab": {
          "base_uri": "https://localhost:8080/",
          "height": 202
        },
        "id": "-0ohY41P9LH0",
        "outputId": "8e31d654-aea4-4f31-bfb6-59bc1c287904"
      },
      "source": [
        "set_ = pd.read_csv('/content/drive/My Drive/Train Data.csv')\n",
        "\n",
        "set_.shape\n",
        "set_.head()"
      ],
      "execution_count": 16,
      "outputs": [
        {
          "output_type": "execute_result",
          "data": {
            "text/html": [
              "<div>\n",
              "<style scoped>\n",
              "    .dataframe tbody tr th:only-of-type {\n",
              "        vertical-align: middle;\n",
              "    }\n",
              "\n",
              "    .dataframe tbody tr th {\n",
              "        vertical-align: top;\n",
              "    }\n",
              "\n",
              "    .dataframe thead th {\n",
              "        text-align: right;\n",
              "    }\n",
              "</style>\n",
              "<table border=\"1\" class=\"dataframe\">\n",
              "  <thead>\n",
              "    <tr style=\"text-align: right;\">\n",
              "      <th></th>\n",
              "      <th>Date</th>\n",
              "      <th>Open</th>\n",
              "      <th>High</th>\n",
              "      <th>Low</th>\n",
              "      <th>Close</th>\n",
              "      <th>Volume</th>\n",
              "    </tr>\n",
              "  </thead>\n",
              "  <tbody>\n",
              "    <tr>\n",
              "      <th>0</th>\n",
              "      <td>1/3/2012</td>\n",
              "      <td>325.25</td>\n",
              "      <td>332.83</td>\n",
              "      <td>324.97</td>\n",
              "      <td>663.59</td>\n",
              "      <td>7,380,500</td>\n",
              "    </tr>\n",
              "    <tr>\n",
              "      <th>1</th>\n",
              "      <td>1/4/2012</td>\n",
              "      <td>331.27</td>\n",
              "      <td>333.87</td>\n",
              "      <td>329.08</td>\n",
              "      <td>666.45</td>\n",
              "      <td>5,749,400</td>\n",
              "    </tr>\n",
              "    <tr>\n",
              "      <th>2</th>\n",
              "      <td>1/5/2012</td>\n",
              "      <td>329.83</td>\n",
              "      <td>330.75</td>\n",
              "      <td>326.89</td>\n",
              "      <td>657.21</td>\n",
              "      <td>6,590,300</td>\n",
              "    </tr>\n",
              "    <tr>\n",
              "      <th>3</th>\n",
              "      <td>1/6/2012</td>\n",
              "      <td>328.34</td>\n",
              "      <td>328.77</td>\n",
              "      <td>323.68</td>\n",
              "      <td>648.24</td>\n",
              "      <td>5,405,900</td>\n",
              "    </tr>\n",
              "    <tr>\n",
              "      <th>4</th>\n",
              "      <td>1/9/2012</td>\n",
              "      <td>322.04</td>\n",
              "      <td>322.29</td>\n",
              "      <td>309.46</td>\n",
              "      <td>620.76</td>\n",
              "      <td>11,688,800</td>\n",
              "    </tr>\n",
              "  </tbody>\n",
              "</table>\n",
              "</div>"
            ],
            "text/plain": [
              "       Date    Open    High     Low   Close      Volume\n",
              "0  1/3/2012  325.25  332.83  324.97  663.59   7,380,500\n",
              "1  1/4/2012  331.27  333.87  329.08  666.45   5,749,400\n",
              "2  1/5/2012  329.83  330.75  326.89  657.21   6,590,300\n",
              "3  1/6/2012  328.34  328.77  323.68  648.24   5,405,900\n",
              "4  1/9/2012  322.04  322.29  309.46  620.76  11,688,800"
            ]
          },
          "metadata": {
            "tags": []
          },
          "execution_count": 16
        }
      ]
    },
    {
      "cell_type": "code",
      "metadata": {
        "colab": {
          "base_uri": "https://localhost:8080/",
          "height": 202
        },
        "id": "uVtmdxz0-SuO",
        "outputId": "f7650018-14e5-477b-a099-454a615c970c"
      },
      "source": [
        "set_ = set_.iloc[:, 1:2]\n",
        "set_.shape\n",
        "set_.head()"
      ],
      "execution_count": 17,
      "outputs": [
        {
          "output_type": "execute_result",
          "data": {
            "text/html": [
              "<div>\n",
              "<style scoped>\n",
              "    .dataframe tbody tr th:only-of-type {\n",
              "        vertical-align: middle;\n",
              "    }\n",
              "\n",
              "    .dataframe tbody tr th {\n",
              "        vertical-align: top;\n",
              "    }\n",
              "\n",
              "    .dataframe thead th {\n",
              "        text-align: right;\n",
              "    }\n",
              "</style>\n",
              "<table border=\"1\" class=\"dataframe\">\n",
              "  <thead>\n",
              "    <tr style=\"text-align: right;\">\n",
              "      <th></th>\n",
              "      <th>Open</th>\n",
              "    </tr>\n",
              "  </thead>\n",
              "  <tbody>\n",
              "    <tr>\n",
              "      <th>0</th>\n",
              "      <td>325.25</td>\n",
              "    </tr>\n",
              "    <tr>\n",
              "      <th>1</th>\n",
              "      <td>331.27</td>\n",
              "    </tr>\n",
              "    <tr>\n",
              "      <th>2</th>\n",
              "      <td>329.83</td>\n",
              "    </tr>\n",
              "    <tr>\n",
              "      <th>3</th>\n",
              "      <td>328.34</td>\n",
              "    </tr>\n",
              "    <tr>\n",
              "      <th>4</th>\n",
              "      <td>322.04</td>\n",
              "    </tr>\n",
              "  </tbody>\n",
              "</table>\n",
              "</div>"
            ],
            "text/plain": [
              "     Open\n",
              "0  325.25\n",
              "1  331.27\n",
              "2  329.83\n",
              "3  328.34\n",
              "4  322.04"
            ]
          },
          "metadata": {
            "tags": []
          },
          "execution_count": 17
        }
      ]
    },
    {
      "cell_type": "code",
      "metadata": {
        "id": "wVVHOCUL-SxT"
      },
      "source": [
        "predicted_stock_price = model.predict(x_train)\n",
        "predicted_stock_price = mm.inverse_transform(predicted_stock_price)"
      ],
      "execution_count": 18,
      "outputs": []
    },
    {
      "cell_type": "code",
      "metadata": {
        "colab": {
          "base_uri": "https://localhost:8080/",
          "height": 295
        },
        "id": "or0KTD0t-SzV",
        "outputId": "62ec6e56-4648-4770-cda9-d2e51eb98ad9"
      },
      "source": [
        "plt.plot(set_, color = 'red', label = 'Real Google Stock Price')\n",
        "plt.plot(predicted_stock_price, color = 'blue', label = 'Predicted Google Stock Price')\n",
        "plt.title('Stock Prediction')\n",
        "plt.xlabel('Time')\n",
        "plt.ylabel('Google Stock Price')\n",
        "plt.legend()\n",
        "plt.show()"
      ],
      "execution_count": 19,
      "outputs": [
        {
          "output_type": "display_data",
          "data": {
            "image/png": "[encoded data removed]",
            "text/plain": [
              "<Figure size 432x288 with 1 Axes>"
            ]
          },
          "metadata": {
            "tags": [],
            "needs_background": "light"
          }
        }
      ]
    }
  ]
}